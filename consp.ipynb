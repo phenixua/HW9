{
  "nbformat": 4,
  "nbformat_minor": 0,
  "metadata": {
    "colab": {
      "provenance": [],
      "authorship_tag": "ABX9TyNXEMT2MdZ8ZjjUgZVqmqhk",
      "include_colab_link": true
    },
    "kernelspec": {
      "name": "python3",
      "display_name": "Python 3"
    },
    "language_info": {
      "name": "python"
    }
  },
  "cells": [
    {
      "cell_type": "markdown",
      "metadata": {
        "id": "view-in-github",
        "colab_type": "text"
      },
      "source": [
        "<a href=\"https://colab.research.google.com/github/phenixua/HW9/blob/main/lecture.ipynb\" target=\"_parent\"><img src=\"https://colab.research.google.com/assets/colab-badge.svg\" alt=\"Open In Colab\"/></a>"
      ]
    },
    {
      "cell_type": "markdown",
      "source": [
        "Завантаження датасету:"
      ],
      "metadata": {
        "id": "UmHW0JtdSMYm"
      }
    },
    {
      "cell_type": "markdown",
      "source": [
        "# New Section"
      ],
      "metadata": {
        "id": "yfWHdOd7Uqza"
      }
    },
    {
      "cell_type": "code",
      "execution_count": 5,
      "metadata": {
        "colab": {
          "base_uri": "https://localhost:8080/"
        },
        "id": "HCc0cOJEKHOZ",
        "outputId": "44a48408-092e-43bf-d894-1a5cf4d83a9f"
      },
      "outputs": [
        {
          "output_type": "stream",
          "name": "stdout",
          "text": [
            "Downloading data from https://storage.googleapis.com/tensorflow/tf-keras-datasets/imdb.npz\n",
            "17464789/17464789 [==============================] - 0s 0us/step\n"
          ]
        }
      ],
      "source": [
        "import numpy as np\n",
        "\n",
        "from tensorflow import keras\n",
        "from keras.datasets import imdb\n",
        "\n",
        "(train_data, train_labels), (test_data, test_labels) = imdb.load_data(num_words=10000)\n",
        "\n"
      ]
    },
    {
      "cell_type": "code",
      "source": [
        "print(train_data[0])\n",
        "[1, 14, 22, 16, ..., 178, 32]\n"
      ],
      "metadata": {
        "colab": {
          "base_uri": "https://localhost:8080/"
        },
        "id": "MGCIRmwiKxOP",
        "outputId": "72802636-7705-4e0b-dc9e-5c7bd638ef84"
      },
      "execution_count": 6,
      "outputs": [
        {
          "output_type": "stream",
          "name": "stdout",
          "text": [
            "[1, 14, 22, 16, 43, 530, 973, 1622, 1385, 65, 458, 4468, 66, 3941, 4, 173, 36, 256, 5, 25, 100, 43, 838, 112, 50, 670, 2, 9, 35, 480, 284, 5, 150, 4, 172, 112, 167, 2, 336, 385, 39, 4, 172, 4536, 1111, 17, 546, 38, 13, 447, 4, 192, 50, 16, 6, 147, 2025, 19, 14, 22, 4, 1920, 4613, 469, 4, 22, 71, 87, 12, 16, 43, 530, 38, 76, 15, 13, 1247, 4, 22, 17, 515, 17, 12, 16, 626, 18, 2, 5, 62, 386, 12, 8, 316, 8, 106, 5, 4, 2223, 5244, 16, 480, 66, 3785, 33, 4, 130, 12, 16, 38, 619, 5, 25, 124, 51, 36, 135, 48, 25, 1415, 33, 6, 22, 12, 215, 28, 77, 52, 5, 14, 407, 16, 82, 2, 8, 4, 107, 117, 5952, 15, 256, 4, 2, 7, 3766, 5, 723, 36, 71, 43, 530, 476, 26, 400, 317, 46, 7, 4, 2, 1029, 13, 104, 88, 4, 381, 15, 297, 98, 32, 2071, 56, 26, 141, 6, 194, 7486, 18, 4, 226, 22, 21, 134, 476, 26, 480, 5, 144, 30, 5535, 18, 51, 36, 28, 224, 92, 25, 104, 4, 226, 65, 16, 38, 1334, 88, 12, 16, 283, 5, 16, 4472, 113, 103, 32, 15, 16, 5345, 19, 178, 32]\n"
          ]
        },
        {
          "output_type": "execute_result",
          "data": {
            "text/plain": [
              "[1, 14, 22, 16, Ellipsis, 178, 32]"
            ]
          },
          "metadata": {},
          "execution_count": 6
        }
      ]
    },
    {
      "cell_type": "markdown",
      "source": [
        "Для того, щоб подивитися безпосередньо на текст рецензії, можна виконати наступний код:"
      ],
      "metadata": {
        "id": "o4mSaH0GSck4"
      }
    },
    {
      "cell_type": "code",
      "source": [
        "word_index = imdb.get_word_index()\n",
        "reverse_word_index = dict([(value, key) for (key, value) in word_index.items()])\n",
        "decoded_review = ' '.join([reverse_word_index.get(i - 3, '?') for i in train_data[10]])\n",
        "print(decoded_review)\n"
      ],
      "metadata": {
        "colab": {
          "base_uri": "https://localhost:8080/"
        },
        "id": "-oo6oK7CK1-F",
        "outputId": "f9eb3c3c-5356-4b02-9170-40650cbad01a"
      },
      "execution_count": 7,
      "outputs": [
        {
          "output_type": "stream",
          "name": "stdout",
          "text": [
            "Downloading data from https://storage.googleapis.com/tensorflow/tf-keras-datasets/imdb_word_index.json\n",
            "1641221/1641221 [==============================] - 0s 0us/step\n",
            "? french horror cinema has seen something of a revival over the last couple of years with great films such as inside and ? romance ? on to the scene ? ? the revival just slightly but stands head and shoulders over most modern horror titles and is surely one of the best french horror films ever made ? was obviously shot on a low budget but this is made up for in far more ways than one by the originality of the film and this in turn is ? by the excellent writing and acting that ensure the film is a winner the plot focuses on two main ideas prison and black magic the central character is a man named ? sent to prison for fraud he is put in a cell with three others the quietly insane ? body building ? marcus and his retarded boyfriend daisy after a short while in the cell together they stumble upon a hiding place in the wall that contains an old ? after ? part of it they soon realise its magical powers and realise they may be able to use it to break through the prison walls br br black magic is a very interesting topic and i'm actually quite surprised that there aren't more films based on it as there's so much scope for things to do with it it's fair to say that ? makes the best of it's ? as despite it's ? the film never actually feels restrained and manages to flow well throughout director eric ? provides a great atmosphere for the film the fact that most of it takes place inside the central prison cell ? that the film feels very claustrophobic and this immensely benefits the central idea of the prisoners wanting to use magic to break out of the cell it's very easy to get behind them it's often said that the unknown is the thing that really ? people and this film proves that as the director ? that we can never really be sure of exactly what is round the corner and this helps to ensure that ? actually does manage to be quite frightening the film is memorable for a lot of reasons outside the central plot the characters are all very interesting in their own way and the fact that the book itself almost takes on its own character is very well done anyone worried that the film won't deliver by the end won't be disappointed either as the ending both makes sense and manages to be quite horrifying overall ? is a truly great horror film and one of the best of the decade highly recommended viewing\n"
          ]
        }
      ]
    },
    {
      "cell_type": "code",
      "source": [
        "print(train_data.shape)\n",
        "print(type(train_data[0]))\n",
        "print(len(train_data[0]))\n"
      ],
      "metadata": {
        "colab": {
          "base_uri": "https://localhost:8080/"
        },
        "id": "v8gi2tdxLFy5",
        "outputId": "df4bb18e-4801-42ff-970f-9609069cf09d"
      },
      "execution_count": 8,
      "outputs": [
        {
          "output_type": "stream",
          "name": "stdout",
          "text": [
            "(25000,)\n",
            "<class 'list'>\n",
            "218\n"
          ]
        }
      ]
    },
    {
      "cell_type": "markdown",
      "source": [
        "Виробимо one-hot кодування наших даних, виконавши наступний код:"
      ],
      "metadata": {
        "id": "j_32dr74SowE"
      }
    },
    {
      "cell_type": "code",
      "source": [
        "def vectorize_sequences(sequences, dimension=10000):\n",
        "    results = np.zeros((len(sequences), dimension))\n",
        "    for i, sequence in enumerate(sequences):\n",
        "        results[i, sequence] = 1.0\n",
        "    return results\n",
        "\n",
        "x_train = vectorize_sequences(train_data)\n",
        "y_train = np.asarray(train_labels).astype('float32')\n",
        "\n",
        "x_test = vectorize_sequences(test_data)\n",
        "y_test = np.asarray(test_labels).astype('float32')\n"
      ],
      "metadata": {
        "id": "j8jf3Cz6LXAX"
      },
      "execution_count": 9,
      "outputs": []
    },
    {
      "cell_type": "markdown",
      "source": [
        "Тестові дані тепер являють собою 25000-елементний масив 10000-елементних векторів."
      ],
      "metadata": {
        "id": "MAf6Q7ZoTQz_"
      }
    },
    {
      "cell_type": "code",
      "source": [
        "print(x_train.shape)\n"
      ],
      "metadata": {
        "colab": {
          "base_uri": "https://localhost:8080/"
        },
        "id": "-22woPubLz7P",
        "outputId": "66fd3c28-2030-4e8d-eba4-b4e01148b40e"
      },
      "execution_count": 45,
      "outputs": [
        {
          "output_type": "stream",
          "name": "stdout",
          "text": [
            "(25000, 10000)\n"
          ]
        }
      ]
    },
    {
      "cell_type": "markdown",
      "source": [
        "Тепер визначимо архітектуру. Нехай нейромережа складається з 3 шарів:\n",
        "\n",
        "\n",
        "\n",
        "Вхідний шар, що складається з 16 нейронів, який перетворює 10000-елементний вектор на 16-елементний вектор. В якості активаційної функції будемо використовувати ReLU.\n",
        "Прихований шар, що складається з 16 нейронів, який перетворює 16-елементний вектор на 1-елементний вектор. В якості активаційної функції також використовуватимемо ReLU.\n",
        "Вихідний шар, що складається з одного нейрона із сигмоїдальною активаційною функцією."
      ],
      "metadata": {
        "id": "vgEbbcOcTVcS"
      }
    },
    {
      "cell_type": "code",
      "source": [
        "from keras.models import Sequential\n",
        "from keras.layers import Dense\n",
        "\n",
        "\n",
        "model = Sequential([\n",
        "    Dense(16, activation='relu', input_shape=(10000,)),\n",
        "    Dense(16, activation='relu'),\n",
        "    Dense(1, activation='sigmoid'),\n",
        "])\n"
      ],
      "metadata": {
        "id": "BWSfPNYUMG5j"
      },
      "execution_count": 10,
      "outputs": []
    },
    {
      "cell_type": "markdown",
      "source": [
        "Є альтернативний спосіб створення мережі:"
      ],
      "metadata": {
        "id": "Tm8XLpLRTcXp"
      }
    },
    {
      "cell_type": "code",
      "source": [
        "from keras.models import Sequential\n",
        "from keras.layers import Dense\n",
        "\n",
        "\n",
        "model = Sequential()\n",
        "model.add(Dense(16, activation='relu', input_shape=(10000,)))\n",
        "model.add(Dense(16, activation='relu'))\n",
        "model.add(Dense(1, activation='sigmoid'))\n"
      ],
      "metadata": {
        "id": "FJSgvGbkMdxm"
      },
      "execution_count": 11,
      "outputs": []
    },
    {
      "cell_type": "markdown",
      "source": [
        "Нейронна мережа майже готова, залишилося ще кілька штрихів. Перш ніж приступити до навчання, потрібно вказати ще декілька параметрів: функцію помилки, критерій якості та оптимізатор, за допомогою якого буде виконуватися підгонка терезів нейромережі. Усі ці параметри ми можемо взяти з модулів optimizers, losses та metrics, а потім передати в метод model.compile:"
      ],
      "metadata": {
        "id": "kv-F_50eTjIS"
      }
    },
    {
      "cell_type": "code",
      "source": [
        "from keras.models import Sequential\n",
        "from keras.layers import Dense\n",
        "from keras import optimizers\n",
        "from keras import losses\n",
        "from keras import metrics\n",
        "\n",
        "\n",
        "model = Sequential([\n",
        "    Dense(16, activation='relu', input_shape=(10000,)),\n",
        "    Dense(16, activation='relu'),\n",
        "    Dense(1, activation='sigmoid'),\n",
        "])\n",
        "\n",
        "model.compile(\n",
        "    optimizer='rmsprop',\n",
        "    loss='binary_crossentropy',\n",
        "    metrics=['accuracy']\n",
        ")\n",
        "\n"
      ],
      "metadata": {
        "id": "p2IRX-Y3MXb3"
      },
      "execution_count": 12,
      "outputs": []
    },
    {
      "cell_type": "code",
      "source": [
        "model.summary()\n"
      ],
      "metadata": {
        "colab": {
          "base_uri": "https://localhost:8080/"
        },
        "id": "JRYdyoB0M6of",
        "outputId": "8d938945-5503-4bd2-f591-c558ebbd7669"
      },
      "execution_count": 13,
      "outputs": [
        {
          "output_type": "stream",
          "name": "stdout",
          "text": [
            "Model: \"sequential_4\"\n",
            "_________________________________________________________________\n",
            " Layer (type)                Output Shape              Param #   \n",
            "=================================================================\n",
            " dense_12 (Dense)            (None, 16)                160016    \n",
            "                                                                 \n",
            " dense_13 (Dense)            (None, 16)                272       \n",
            "                                                                 \n",
            " dense_14 (Dense)            (None, 1)                 17        \n",
            "                                                                 \n",
            "=================================================================\n",
            "Total params: 160305 (626.19 KB)\n",
            "Trainable params: 160305 (626.19 KB)\n",
            "Non-trainable params: 0 (0.00 Byte)\n",
            "_________________________________________________________________\n"
          ]
        }
      ]
    },
    {
      "cell_type": "markdown",
      "source": [
        "Тепер все готово, щоб розпочати навчання нейронної мережі. Для того, щоб виконати пошук оптимальних параметрів мережі потрібно лише викликати метод fit на екземплярі нашої моделі:"
      ],
      "metadata": {
        "id": "ZwVXYb3GTsB7"
      }
    },
    {
      "cell_type": "code",
      "source": [
        "x_val = x_train[:10000]\n",
        "partial_x_train = x_train[10000:]\n",
        "\n",
        "y_val = y_train[:10000]\n",
        "partial_y_train = y_train[10000:]\n",
        "\n",
        "history = model.fit(\n",
        "    partial_x_train,\n",
        "    partial_y_train,\n",
        "    epochs=20,\n",
        "    batch_size=512,\n",
        "    validation_data=(x_val, y_val)\n",
        ")\n"
      ],
      "metadata": {
        "colab": {
          "base_uri": "https://localhost:8080/"
        },
        "id": "fqyVjIYFM_4B",
        "outputId": "9737ffed-ef39-47d3-eb29-7f004d9fa248"
      },
      "execution_count": 14,
      "outputs": [
        {
          "output_type": "stream",
          "name": "stdout",
          "text": [
            "Epoch 1/20\n",
            "30/30 [==============================] - 3s 69ms/step - loss: 0.5318 - accuracy: 0.7805 - val_loss: 0.4099 - val_accuracy: 0.8552\n",
            "Epoch 2/20\n",
            "30/30 [==============================] - 1s 34ms/step - loss: 0.3353 - accuracy: 0.8885 - val_loss: 0.3340 - val_accuracy: 0.8720\n",
            "Epoch 3/20\n",
            "30/30 [==============================] - 1s 33ms/step - loss: 0.2495 - accuracy: 0.9147 - val_loss: 0.2859 - val_accuracy: 0.8898\n",
            "Epoch 4/20\n",
            "30/30 [==============================] - 1s 34ms/step - loss: 0.2044 - accuracy: 0.9315 - val_loss: 0.2789 - val_accuracy: 0.8859\n",
            "Epoch 5/20\n",
            "30/30 [==============================] - 1s 31ms/step - loss: 0.1731 - accuracy: 0.9416 - val_loss: 0.2778 - val_accuracy: 0.8881\n",
            "Epoch 6/20\n",
            "30/30 [==============================] - 1s 41ms/step - loss: 0.1476 - accuracy: 0.9533 - val_loss: 0.2811 - val_accuracy: 0.8879\n",
            "Epoch 7/20\n",
            "30/30 [==============================] - 2s 59ms/step - loss: 0.1268 - accuracy: 0.9596 - val_loss: 0.2993 - val_accuracy: 0.8806\n",
            "Epoch 8/20\n",
            "30/30 [==============================] - 1s 32ms/step - loss: 0.1108 - accuracy: 0.9664 - val_loss: 0.3210 - val_accuracy: 0.8769\n",
            "Epoch 9/20\n",
            "30/30 [==============================] - 1s 34ms/step - loss: 0.0960 - accuracy: 0.9718 - val_loss: 0.3524 - val_accuracy: 0.8775\n",
            "Epoch 10/20\n",
            "30/30 [==============================] - 1s 40ms/step - loss: 0.0867 - accuracy: 0.9741 - val_loss: 0.3335 - val_accuracy: 0.8813\n",
            "Epoch 11/20\n",
            "30/30 [==============================] - 2s 63ms/step - loss: 0.0731 - accuracy: 0.9797 - val_loss: 0.3504 - val_accuracy: 0.8792\n",
            "Epoch 12/20\n",
            "30/30 [==============================] - 2s 59ms/step - loss: 0.0643 - accuracy: 0.9833 - val_loss: 0.3810 - val_accuracy: 0.8784\n",
            "Epoch 13/20\n",
            "30/30 [==============================] - 2s 60ms/step - loss: 0.0559 - accuracy: 0.9867 - val_loss: 0.3920 - val_accuracy: 0.8778\n",
            "Epoch 14/20\n",
            "30/30 [==============================] - 2s 60ms/step - loss: 0.0454 - accuracy: 0.9896 - val_loss: 0.4275 - val_accuracy: 0.8700\n",
            "Epoch 15/20\n",
            "30/30 [==============================] - 2s 76ms/step - loss: 0.0414 - accuracy: 0.9905 - val_loss: 0.4363 - val_accuracy: 0.8729\n",
            "Epoch 16/20\n",
            "30/30 [==============================] - 1s 48ms/step - loss: 0.0357 - accuracy: 0.9913 - val_loss: 0.4583 - val_accuracy: 0.8740\n",
            "Epoch 17/20\n",
            "30/30 [==============================] - 1s 34ms/step - loss: 0.0274 - accuracy: 0.9955 - val_loss: 0.4987 - val_accuracy: 0.8645\n",
            "Epoch 18/20\n",
            "30/30 [==============================] - 1s 33ms/step - loss: 0.0258 - accuracy: 0.9957 - val_loss: 0.5030 - val_accuracy: 0.8730\n",
            "Epoch 19/20\n",
            "30/30 [==============================] - 1s 33ms/step - loss: 0.0228 - accuracy: 0.9967 - val_loss: 0.5336 - val_accuracy: 0.8711\n",
            "Epoch 20/20\n",
            "30/30 [==============================] - 1s 30ms/step - loss: 0.0183 - accuracy: 0.9979 - val_loss: 0.5556 - val_accuracy: 0.8681\n"
          ]
        }
      ]
    },
    {
      "cell_type": "code",
      "source": [
        "print(history.history.keys())\n"
      ],
      "metadata": {
        "colab": {
          "base_uri": "https://localhost:8080/"
        },
        "id": "4SeXT9O2NnUO",
        "outputId": "e216045d-83ee-4431-e4a3-804f2c51866d"
      },
      "execution_count": 15,
      "outputs": [
        {
          "output_type": "stream",
          "name": "stdout",
          "text": [
            "dict_keys(['loss', 'accuracy', 'val_loss', 'val_accuracy'])\n"
          ]
        }
      ]
    },
    {
      "cell_type": "markdown",
      "source": [
        "Візуалізуємо дані списки:"
      ],
      "metadata": {
        "id": "m56YdjA9Tzb_"
      }
    },
    {
      "cell_type": "code",
      "source": [
        "import matplotlib.pyplot as plt\n",
        "\n",
        "\n",
        "history_dict = history.history\n",
        "loss_values = history_dict['loss']\n",
        "val_loss_values = history_dict['val_loss']\n",
        "\n",
        "epochs = range(1, len(history_dict['accuracy']) + 1)\n",
        "\n",
        "plt.plot(epochs, loss_values, 'bo', label='Training loss')\n",
        "plt.plot(epochs, val_loss_values, 'b', label='Validation loss')\n",
        "plt.title('Training and validation loss')\n",
        "plt.xlabel('Epochs')\n",
        "plt.ylabel('Loss')\n",
        "plt.legend()\n",
        "plt.show()\n",
        "\n",
        "plt.clf()\n",
        "val_acc_values = history_dict['val_accuracy']\n",
        "plt.plot(epochs, history_dict['accuracy'], 'bo', label='Training acc')\n",
        "plt.plot(epochs, history_dict['val_accuracy'], 'b', label='Validation acc')\n",
        "plt.title('Training and validation accuracy')\n",
        "plt.xlabel('Epochs')\n",
        "plt.ylabel('Loss')\n",
        "plt.legend()\n"
      ],
      "metadata": {
        "colab": {
          "base_uri": "https://localhost:8080/",
          "height": 944
        },
        "id": "8_XjQkMlN4J1",
        "outputId": "4dbe5f3e-5804-4de4-9260-e9e573853e30"
      },
      "execution_count": 16,
      "outputs": [
        {
          "output_type": "display_data",
          "data": {
            "text/plain": [
              "<Figure size 640x480 with 1 Axes>"
            ],
            "image/png": "[encoded data removed]"
          },
          "metadata": {}
        },
        {
          "output_type": "execute_result",
          "data": {
            "text/plain": [
              "<matplotlib.legend.Legend at 0x7f80fab55630>"
            ]
          },
          "metadata": {},
          "execution_count": 16
        },
        {
          "output_type": "display_data",
          "data": {
            "text/plain": [
              "<Figure size 640x480 with 1 Axes>"
            ],
            "image/png": "[encoded data removed]"
          },
          "metadata": {}
        }
      ]
    },
    {
      "cell_type": "code",
      "source": [
        "results = model.evaluate(x_test, y_test)\n",
        "print\n",
        "(results)\n"
      ],
      "metadata": {
        "colab": {
          "base_uri": "https://localhost:8080/"
        },
        "id": "JvL98_b0N7-G",
        "outputId": "410a6748-4fb3-4f54-e423-6a4f505b8156"
      },
      "execution_count": 17,
      "outputs": [
        {
          "output_type": "stream",
          "name": "stdout",
          "text": [
            "782/782 [==============================] - 2s 3ms/step - loss: 0.6029 - accuracy: 0.8552\n"
          ]
        },
        {
          "output_type": "execute_result",
          "data": {
            "text/plain": [
              "[0.6028957366943359, 0.8551999926567078]"
            ]
          },
          "metadata": {},
          "execution_count": 17
        }
      ]
    },
    {
      "cell_type": "markdown",
      "source": [
        "Нейронна мережа майже готова, залишилося ще кілька штрихів. Перш ніж приступити до навчання, потрібно вказати ще декілька параметрів: функцію помилки, критерій якості та оптимізатор, за допомогою якого буде виконуватися підгонка терезів нейромережі. Усі ці параметри ми можемо взяти з модулів optimizers, losses та metrics, а потім передати в метод model.compile:"
      ],
      "metadata": {
        "id": "Zn7zCrqSRt8H"
      }
    },
    {
      "cell_type": "code",
      "source": [
        "from keras.models import Sequential\n",
        "from tensorflow.keras import layers\n",
        "from keras.layers import Dense\n",
        "\n",
        "model = Sequential([\n",
        "    Dense(16, activation='relu', input_shape=(10000,)),\n",
        "    Dense(16, activation='relu'),\n",
        "    Dense(1, activation='sigmoid'),\n",
        "])\n",
        "\n",
        "model.compile(\n",
        "    optimizer='rmsprop',\n",
        "    loss='binary_crossentropy',\n",
        "    metrics=['accuracy']\n",
        ")\n"
      ],
      "metadata": {
        "id": "CIzg2qXeOrJx"
      },
      "execution_count": 18,
      "outputs": []
    },
    {
      "cell_type": "markdown",
      "source": [
        "Повторне обчислення значення точності та помилки мережі.\n",
        "\n"
      ],
      "metadata": {
        "id": "_0VTXtZwRbCg"
      }
    },
    {
      "cell_type": "code",
      "source": [
        "model = Sequential()\n",
        "model.add(layers.Dense(16, activation='relu', input_shape=(10000,)))\n",
        "model.add(layers.Dense(16, activation='relu'))\n",
        "model.add(layers.Dense(1, activation='sigmoid'))\n",
        "model.compile(\n",
        "    optimizer='rmsprop',\n",
        "    loss='binary_crossentropy',\n",
        "    metrics=['accuracy']\n",
        ")\n",
        "model.fit(x_train, y_train, epochs=4, batch_size=512)\n",
        "results = model.evaluate(x_test, y_test)\n",
        "print(results)\n"
      ],
      "metadata": {
        "colab": {
          "base_uri": "https://localhost:8080/"
        },
        "id": "jf8MSBZRPnj5",
        "outputId": "a1cdcd08-3a6f-4c7b-bc00-f5be535a8531"
      },
      "execution_count": 19,
      "outputs": [
        {
          "output_type": "stream",
          "name": "stdout",
          "text": [
            "Epoch 1/4\n",
            "49/49 [==============================] - 2s 29ms/step - loss: 0.5054 - accuracy: 0.8117\n",
            "Epoch 2/4\n",
            "49/49 [==============================] - 1s 24ms/step - loss: 0.3070 - accuracy: 0.8972\n",
            "Epoch 3/4\n",
            "49/49 [==============================] - 1s 24ms/step - loss: 0.2385 - accuracy: 0.9147\n",
            "Epoch 4/4\n",
            "49/49 [==============================] - 1s 23ms/step - loss: 0.2003 - accuracy: 0.9286\n",
            "782/782 [==============================] - 2s 2ms/step - loss: 0.2781 - accuracy: 0.8897\n",
            "[0.27812352776527405, 0.889680027961731]\n"
          ]
        }
      ]
    },
    {
      "cell_type": "code",
      "source": [
        "results = model.evaluate(x_test, y_test)\n",
        "print(results)\n"
      ],
      "metadata": {
        "colab": {
          "base_uri": "https://localhost:8080/"
        },
        "id": "nN3D6a55QQMn",
        "outputId": "82b35644-82bd-4612-bbae-1df92b47783b"
      },
      "execution_count": 20,
      "outputs": [
        {
          "output_type": "stream",
          "name": "stdout",
          "text": [
            "782/782 [==============================] - 2s 2ms/step - loss: 0.2781 - accuracy: 0.8897\n",
            "[0.27812352776527405, 0.889680027961731]\n"
          ]
        }
      ]
    },
    {
      "cell_type": "code",
      "source": [
        "result = model.predict(x_test[0, :].reshape(1, 10000))\n",
        "print(result)\n"
      ],
      "metadata": {
        "colab": {
          "base_uri": "https://localhost:8080/"
        },
        "id": "n4Cf-qDxQZC4",
        "outputId": "38bb6345-db4a-471b-9334-d7f87e71c9e5"
      },
      "execution_count": 21,
      "outputs": [
        {
          "output_type": "stream",
          "name": "stdout",
          "text": [
            "1/1 [==============================] - 0s 84ms/step\n",
            "[[0.22862822]]\n"
          ]
        }
      ]
    },
    {
      "cell_type": "markdown",
      "source": [
        "Збереження моделі у заданій локалізації:\n",
        "\n"
      ],
      "metadata": {
        "id": "uw1jYU4nRIWW"
      }
    },
    {
      "cell_type": "code",
      "source": [
        "model.save(\"my_model\")\n"
      ],
      "metadata": {
        "id": "lLAahgx-QghH"
      },
      "execution_count": 22,
      "outputs": []
    },
    {
      "cell_type": "markdown",
      "source": [
        "Завантаження моделі із заданої локалізації:"
      ],
      "metadata": {
        "id": "Kyz7QW9WRL-3"
      }
    },
    {
      "cell_type": "code",
      "source": [
        "model = keras.models.load_model(\"my_model\")\n"
      ],
      "metadata": {
        "id": "vEPCms8ZREPp"
      },
      "execution_count": 38,
      "outputs": []
    }
  ]
}