{
  "nbformat": 4,
  "nbformat_minor": 0,
  "metadata": {
    "colab": {
      "provenance": [],
      "authorship_tag": "ABX9TyP9KbPd8I/c19BMd2Hq5FrL",
      "include_colab_link": true
    },
    "kernelspec": {
      "name": "python3",
      "display_name": "Python 3"
    },
    "language_info": {
      "name": "python"
    }
  },
  "cells": [
    {
      "cell_type": "markdown",
      "metadata": {
        "id": "view-in-github",
        "colab_type": "text"
      },
      "source": [
        "<a href=\"https://colab.research.google.com/github/phenixua/HW9/blob/main/HW9.ipynb\" target=\"_parent\"><img src=\"https://colab.research.google.com/assets/colab-badge.svg\" alt=\"Open In Colab\"/></a>"
      ]
    },
    {
      "cell_type": "code",
      "execution_count": 41,
      "metadata": {
        "id": "j9lv-i1LX8PS"
      },
      "outputs": [],
      "source": [
        "import keras\n",
        "from keras.datasets import fashion_mnist\n",
        "from keras.models import Sequential\n",
        "from keras.layers import Conv2D, MaxPooling2D, Flatten, Dense, Dropout\n",
        "from keras.optimizers import Adam\n",
        "from keras.callbacks import EarlyStopping\n"
      ]
    },
    {
      "cell_type": "code",
      "source": [
        "# Завантаження та підготовка даних\n",
        "(x_train, y_train), (x_test, y_test) = fashion_mnist.load_data()\n",
        "x_train = x_train.astype('float32') / 255.0\n",
        "x_test = x_test.astype('float32') / 255.0\n",
        "x_train = x_train.reshape(x_train.shape[0], 28, 28, 1)\n",
        "x_test = x_test.reshape(x_test.shape[0], 28, 28, 1)\n"
      ],
      "metadata": {
        "id": "bMvjlQpVYsXi"
      },
      "execution_count": 42,
      "outputs": []
    },
    {
      "cell_type": "code",
      "source": [
        "# Кодування міток класів у формат one-hot\n",
        "num_classes = 10\n",
        "y_train = keras.utils.to_categorical(y_train, num_classes)\n",
        "y_test = keras.utils.to_categorical(y_test, num_classes)\n"
      ],
      "metadata": {
        "id": "LVRj9_K6Y5s1"
      },
      "execution_count": 43,
      "outputs": []
    },
    {
      "cell_type": "code",
      "source": [
        "# Побудова моделі згорткової нейронної мережі\n",
        "model = Sequential([\n",
        "    Conv2D(32, (3, 3), activation='relu', input_shape=(28, 28, 1)),\n",
        "    MaxPooling2D((2, 2)),\n",
        "    Conv2D(64, (3, 3), activation='relu'),\n",
        "    MaxPooling2D((2, 2)),\n",
        "    Flatten(),\n",
        "    Dense(128, activation='relu'),\n",
        "    Dropout(0.5),\n",
        "    Dense(num_classes, activation='softmax')\n",
        "])"
      ],
      "metadata": {
        "id": "iN0xQBFgZBRU"
      },
      "execution_count": 44,
      "outputs": []
    },
    {
      "cell_type": "code",
      "source": [
        "# Компіляція моделі\n",
        "model.compile(optimizer=Adam(), loss='categorical_crossentropy', metrics=['accuracy'])"
      ],
      "metadata": {
        "id": "fvu_pS6qZEfv"
      },
      "execution_count": 45,
      "outputs": []
    },
    {
      "cell_type": "code",
      "source": [
        "# Додавання ранньої зупинки\n",
        "early_stopping = EarlyStopping(monitor='val_loss', patience=5)"
      ],
      "metadata": {
        "id": "5_hrvV6DZQli"
      },
      "execution_count": 46,
      "outputs": []
    },
    {
      "cell_type": "code",
      "source": [
        "# Навчання моделі з ранньою зупинкою та використанням валідаційного розбиття\n",
        "history = model.fit(\n",
        "    x_train, y_train,\n",
        "    epochs=100,\n",
        "    batch_size=128,\n",
        "    validation_split=0.1,\n",
        "    callbacks=[early_stopping]\n",
        ")"
      ],
      "metadata": {
        "colab": {
          "base_uri": "https://localhost:8080/"
        },
        "id": "T_HqgelcskCW",
        "outputId": "9961804d-7973-4bc8-e2e8-81da1e211b05"
      },
      "execution_count": 47,
      "outputs": [
        {
          "output_type": "stream",
          "name": "stdout",
          "text": [
            "Epoch 1/100\n",
            "422/422 [==============================] - 96s 225ms/step - loss: 0.6805 - accuracy: 0.7547 - val_loss: 0.4289 - val_accuracy: 0.8433\n",
            "Epoch 2/100\n",
            "422/422 [==============================] - 38s 90ms/step - loss: 0.4410 - accuracy: 0.8428 - val_loss: 0.3520 - val_accuracy: 0.8688\n",
            "Epoch 3/100\n",
            "422/422 [==============================] - 38s 90ms/step - loss: 0.3820 - accuracy: 0.8630 - val_loss: 0.3237 - val_accuracy: 0.8805\n",
            "Epoch 4/100\n",
            "422/422 [==============================] - 38s 89ms/step - loss: 0.3477 - accuracy: 0.8754 - val_loss: 0.2934 - val_accuracy: 0.8895\n",
            "Epoch 5/100\n",
            "422/422 [==============================] - 38s 89ms/step - loss: 0.3256 - accuracy: 0.8824 - val_loss: 0.2887 - val_accuracy: 0.8917\n",
            "Epoch 6/100\n",
            "422/422 [==============================] - 37s 89ms/step - loss: 0.3052 - accuracy: 0.8887 - val_loss: 0.2744 - val_accuracy: 0.8982\n",
            "Epoch 7/100\n",
            "422/422 [==============================] - 37s 89ms/step - loss: 0.2900 - accuracy: 0.8957 - val_loss: 0.2635 - val_accuracy: 0.9022\n",
            "Epoch 8/100\n",
            "422/422 [==============================] - 37s 89ms/step - loss: 0.2738 - accuracy: 0.9005 - val_loss: 0.2578 - val_accuracy: 0.9097\n",
            "Epoch 9/100\n",
            "422/422 [==============================] - 37s 87ms/step - loss: 0.2650 - accuracy: 0.9032 - val_loss: 0.2455 - val_accuracy: 0.9095\n",
            "Epoch 10/100\n",
            "422/422 [==============================] - 37s 87ms/step - loss: 0.2499 - accuracy: 0.9091 - val_loss: 0.2527 - val_accuracy: 0.9073\n",
            "Epoch 11/100\n",
            "422/422 [==============================] - 37s 87ms/step - loss: 0.2393 - accuracy: 0.9108 - val_loss: 0.2434 - val_accuracy: 0.9117\n",
            "Epoch 12/100\n",
            "422/422 [==============================] - 38s 90ms/step - loss: 0.2295 - accuracy: 0.9167 - val_loss: 0.2399 - val_accuracy: 0.9133\n",
            "Epoch 13/100\n",
            "422/422 [==============================] - 38s 90ms/step - loss: 0.2224 - accuracy: 0.9172 - val_loss: 0.2385 - val_accuracy: 0.9135\n",
            "Epoch 14/100\n",
            "422/422 [==============================] - 37s 88ms/step - loss: 0.2134 - accuracy: 0.9221 - val_loss: 0.2336 - val_accuracy: 0.9182\n",
            "Epoch 15/100\n",
            "422/422 [==============================] - 37s 88ms/step - loss: 0.2036 - accuracy: 0.9234 - val_loss: 0.2359 - val_accuracy: 0.9173\n",
            "Epoch 16/100\n",
            "422/422 [==============================] - 37s 87ms/step - loss: 0.1975 - accuracy: 0.9265 - val_loss: 0.2356 - val_accuracy: 0.9202\n",
            "Epoch 17/100\n",
            "422/422 [==============================] - 38s 89ms/step - loss: 0.1907 - accuracy: 0.9290 - val_loss: 0.2360 - val_accuracy: 0.9182\n",
            "Epoch 18/100\n",
            "422/422 [==============================] - 37s 89ms/step - loss: 0.1818 - accuracy: 0.9319 - val_loss: 0.2465 - val_accuracy: 0.9178\n",
            "Epoch 19/100\n",
            "422/422 [==============================] - 37s 87ms/step - loss: 0.1785 - accuracy: 0.9335 - val_loss: 0.2301 - val_accuracy: 0.9200\n",
            "Epoch 20/100\n",
            "422/422 [==============================] - 37s 87ms/step - loss: 0.1720 - accuracy: 0.9342 - val_loss: 0.2321 - val_accuracy: 0.9238\n",
            "Epoch 21/100\n",
            "422/422 [==============================] - 38s 90ms/step - loss: 0.1661 - accuracy: 0.9369 - val_loss: 0.2373 - val_accuracy: 0.9208\n",
            "Epoch 22/100\n",
            "422/422 [==============================] - 39s 93ms/step - loss: 0.1623 - accuracy: 0.9376 - val_loss: 0.2556 - val_accuracy: 0.9170\n",
            "Epoch 23/100\n",
            "422/422 [==============================] - 37s 88ms/step - loss: 0.1535 - accuracy: 0.9410 - val_loss: 0.2434 - val_accuracy: 0.9162\n",
            "Epoch 24/100\n",
            "422/422 [==============================] - 37s 89ms/step - loss: 0.1503 - accuracy: 0.9417 - val_loss: 0.2467 - val_accuracy: 0.9207\n"
          ]
        }
      ]
    },
    {
      "cell_type": "code",
      "source": [
        "# Оцінка моделі на тестових даних\n",
        "test_loss, test_accuracy = model.evaluate(x_test, y_test)\n",
        "print(\"Test Loss:\", test_loss)\n",
        "print(\"Test Accuracy:\", test_accuracy)\n"
      ],
      "metadata": {
        "colab": {
          "base_uri": "https://localhost:8080/"
        },
        "id": "M4E-1-iXso9V",
        "outputId": "71c6f00a-6dc2-42a4-94cc-80ab4db1705c"
      },
      "execution_count": 48,
      "outputs": [
        {
          "output_type": "stream",
          "name": "stdout",
          "text": [
            "313/313 [==============================] - 3s 9ms/step - loss: 0.2637 - accuracy: 0.9121\n",
            "Test Loss: 0.26368585228919983\n",
            "Test Accuracy: 0.9121000170707703\n"
          ]
        }
      ]
    }
  ]
}